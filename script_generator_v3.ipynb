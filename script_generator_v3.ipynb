{
  "nbformat": 4,
  "nbformat_minor": 0,
  "metadata": {
    "colab": {
      "name": "script_generation_v3.ipynb",
      "provenance": [],
      "collapsed_sections": [],
      "machine_shape": "hm"
    },
    "kernelspec": {
      "name": "python3",
      "display_name": "Python 3"
    },
    "accelerator": "GPU"
  },
  "cells": [
    {
      "cell_type": "code",
      "metadata": {
        "id": "RJmEePSLRv7B",
        "colab_type": "code",
        "colab": {}
      },
      "source": [
        "import tensorflow as tf\n",
        "import numpy as np\n",
        "import os\n",
        "import time"
      ],
      "execution_count": 0,
      "outputs": []
    },
    {
      "cell_type": "code",
      "metadata": {
        "id": "3LIwZlHeSE_g",
        "colab_type": "code",
        "colab": {}
      },
      "source": [
        "def token_lookup():\n",
        "    mark_to_token={}\n",
        "    mark_to_token['.'] = \"||period||\"\n",
        "    mark_to_token[','] = \"||comma||\"\n",
        "    mark_to_token['\"'] = \"||quotationmark||\"\n",
        "    mark_to_token[';'] = \"||semicolon||\"\n",
        "    mark_to_token['!'] = \"||exclamationmark||\"\n",
        "    mark_to_token['?'] = \"||questionmark||\"\n",
        "    mark_to_token['('] = \"||leftparentheses||\"\n",
        "    mark_to_token[')'] = \"||rightparentheses||\"\n",
        "    mark_to_token['--'] = \"||dash||\"\n",
        "    mark_to_token['\\n'] = \"||return||\"\n",
        "    mark_to_token['“'] = \"||quotationMark||\"\n",
        "    mark_to_token['”'] = \"||quotationMark||\"\n",
        "    return mark_to_token"
      ],
      "execution_count": 0,
      "outputs": []
    },
    {
      "cell_type": "code",
      "metadata": {
        "id": "apY0OppwSHv1",
        "colab_type": "code",
        "colab": {}
      },
      "source": [
        "\n",
        "def create_lookup_tables(text):\n",
        "      #text is split into words\n",
        "      words = sorted(list(set(text)))\n",
        "      vocab_to_int = {word:index for index,word in enumerate(words)}\n",
        "      int_to_vocab = np.array(words)\n",
        "      return vocab_to_int,int_to_vocab"
      ],
      "execution_count": 0,
      "outputs": []
    },
    {
      "cell_type": "code",
      "metadata": {
        "id": "glHjvxKWSJ85",
        "colab_type": "code",
        "colab": {}
      },
      "source": [
        "def preprocess_data(token_lookup,create_lookup_tables):\n",
        "    #Reading all the scripts\n",
        "\n",
        "    text1 = open(\"got1.txt\",'r').read()\n",
        "    text2 = open(\"got2.txt\",'r').read()\n",
        "    text3 = open(\"got3.txt\",'r').read()\n",
        "    text4 = open(\"got4.txt\",'r').read()\n",
        "    text5 = open(\"got5.txt\",'r').read()\n",
        "\n",
        "    text = text1+\"\\n\\n\"+text2+\"\\n\\n\"+text3+\"\\n\\n\"+text4+\"\\n\\n\"+text5+\"\\n\\n\"\n",
        "\n",
        "    token_dict = token_lookup()\n",
        "\n",
        "    for key,token in token_dict.items():\n",
        "      text = text.replace(key,' {} '.format(token))\n",
        "\n",
        "    text = text.lower()\n",
        "    text = text.split()\n",
        "\n",
        "    word2idx,idx2word = create_lookup_tables(text)\n",
        "\n",
        "    words_as_int = [word2idx[word] for word in text]\n",
        "\n",
        "    return words_as_int,word2idx,idx2word,token_dict,text"
      ],
      "execution_count": 0,
      "outputs": []
    },
    {
      "cell_type": "code",
      "metadata": {
        "id": "V8LUBY-ySc1w",
        "colab_type": "code",
        "colab": {}
      },
      "source": [
        "words_as_int,word2idx,idx2word,token_dict,words = preprocess_data(token_lookup,create_lookup_tables)"
      ],
      "execution_count": 0,
      "outputs": []
    },
    {
      "cell_type": "code",
      "metadata": {
        "id": "bouvEgDKSg9u",
        "colab_type": "code",
        "outputId": "284f5807-43f7-40c5-993d-55c41b978038",
        "colab": {
          "base_uri": "https://localhost:8080/",
          "height": 36
        }
      },
      "source": [
        "print(\"Total Number of Unique Words {}\".format(len(word2idx)))"
      ],
      "execution_count": 6,
      "outputs": [
        {
          "output_type": "stream",
          "text": [
            "Total Number of Unique Words 26687\n"
          ],
          "name": "stdout"
        }
      ]
    },
    {
      "cell_type": "code",
      "metadata": {
        "id": "pqAsTLq7SjX5",
        "colab_type": "code",
        "outputId": "2768ee52-6e77-4f6d-c1da-878eb7f0eb59",
        "colab": {
          "base_uri": "https://localhost:8080/",
          "height": 55
        }
      },
      "source": [
        "#Cross Check\n",
        "text = open(\"got5.txt\",'r').read()\n",
        "print(text[:35])\n",
        "print(words[:7])"
      ],
      "execution_count": 7,
      "outputs": [
        {
          "output_type": "stream",
          "text": [
            "“We should start back,” Gared urged\n",
            "['||return||', 'the', 'comet’s', 'tail', 'spread', 'across', 'the']\n"
          ],
          "name": "stdout"
        }
      ]
    },
    {
      "cell_type": "code",
      "metadata": {
        "id": "lzAPystZSmHz",
        "colab_type": "code",
        "colab": {}
      },
      "source": [
        "seq_len = 50\n",
        "words_dataset = tf.data.Dataset.from_tensor_slices(words_as_int)"
      ],
      "execution_count": 0,
      "outputs": []
    },
    {
      "cell_type": "code",
      "metadata": {
        "id": "G6QUfZzgS9TG",
        "colab_type": "code",
        "outputId": "c7f04729-1ef6-4450-87ae-9b3a6d63c59c",
        "colab": {
          "base_uri": "https://localhost:8080/",
          "height": 112
        }
      },
      "source": [
        "for i in words_dataset.take(5):\n",
        "  print(idx2word[i])"
      ],
      "execution_count": 9,
      "outputs": [
        {
          "output_type": "stream",
          "text": [
            "||return||\n",
            "the\n",
            "comet’s\n",
            "tail\n",
            "spread\n"
          ],
          "name": "stdout"
        }
      ]
    },
    {
      "cell_type": "code",
      "metadata": {
        "id": "x524cyQ_S_3O",
        "colab_type": "code",
        "outputId": "29f61e33-47ba-4957-f382-0bc7e7fd29f3",
        "colab": {
          "base_uri": "https://localhost:8080/",
          "height": 56
        }
      },
      "source": [
        "sequences = words_dataset.batch(seq_len+1,drop_remainder=True)\n",
        "\n",
        "for seq in sequences.take(1):\n",
        "  print(repr(' '.join(idx2word[seq.numpy()])))"
      ],
      "execution_count": 10,
      "outputs": [
        {
          "output_type": "stream",
          "text": [
            "'||return|| the comet’s tail spread across the dawn ||comma|| a red slash that bled above the crags of dragonstone like a wound in the pink and purple sky ||period|| ||return|| ||return|| the maester stood on the windswept balcony outside his chambers ||period|| it was here the ravens came ||comma|| after long'\n"
          ],
          "name": "stdout"
        }
      ]
    },
    {
      "cell_type": "code",
      "metadata": {
        "id": "i_PHHQKzTXKL",
        "colab_type": "code",
        "colab": {}
      },
      "source": [
        "def split_input_target(chunk):\n",
        "  input_text = chunk[:-1]\n",
        "  target_text = chunk[1:]\n",
        "  return input_text,target_text\n",
        "\n",
        "batches = sequences.map(split_input_target)"
      ],
      "execution_count": 0,
      "outputs": []
    },
    {
      "cell_type": "code",
      "metadata": {
        "id": "Wh1YgX3zTmZb",
        "colab_type": "code",
        "outputId": "2c79da45-2be7-4a53-80b9-b97b5d1e5445",
        "colab": {
          "base_uri": "https://localhost:8080/",
          "height": 75
        }
      },
      "source": [
        "for input_example,target_example in batches.take(1):\n",
        "  print(\"Input data:\",repr(\" \".join(idx2word[input_example.numpy()])))\n",
        "  print(\"Target data:\",repr(\" \".join(idx2word[target_example.numpy()])))"
      ],
      "execution_count": 12,
      "outputs": [
        {
          "output_type": "stream",
          "text": [
            "Input data: '||return|| the comet’s tail spread across the dawn ||comma|| a red slash that bled above the crags of dragonstone like a wound in the pink and purple sky ||period|| ||return|| ||return|| the maester stood on the windswept balcony outside his chambers ||period|| it was here the ravens came ||comma|| after'\n",
            "Target data: 'the comet’s tail spread across the dawn ||comma|| a red slash that bled above the crags of dragonstone like a wound in the pink and purple sky ||period|| ||return|| ||return|| the maester stood on the windswept balcony outside his chambers ||period|| it was here the ravens came ||comma|| after long'\n"
          ],
          "name": "stdout"
        }
      ]
    },
    {
      "cell_type": "code",
      "metadata": {
        "id": "hRfTQ1uuToaV",
        "colab_type": "code",
        "outputId": "a6a09f8f-554a-44e5-bd35-f05f8fd4b9aa",
        "colab": {
          "base_uri": "https://localhost:8080/",
          "height": 36
        }
      },
      "source": [
        "Batch_Size = 128\n",
        "\n",
        "Buffer_Size= 1000\n",
        "\n",
        "dataset = batches.shuffle(Buffer_Size).batch(Batch_Size,drop_remainder=True)\n",
        "\n",
        "dataset\n"
      ],
      "execution_count": 13,
      "outputs": [
        {
          "output_type": "execute_result",
          "data": {
            "text/plain": [
              "<BatchDataset shapes: ((128, 50), (128, 50)), types: (tf.int32, tf.int32)>"
            ]
          },
          "metadata": {
            "tags": []
          },
          "execution_count": 13
        }
      ]
    },
    {
      "cell_type": "code",
      "metadata": {
        "id": "IHWO4vZmTtUG",
        "colab_type": "code",
        "colab": {}
      },
      "source": [
        "vocab_size = len(word2idx)\n",
        "\n",
        "embedding_size = 400\n",
        "\n",
        "lstm_units = [512,256]\n",
        "\n"
      ],
      "execution_count": 0,
      "outputs": []
    },
    {
      "cell_type": "code",
      "metadata": {
        "id": "Yqc5nJkTfZqa",
        "colab_type": "code",
        "colab": {}
      },
      "source": [
        "class model(tf.keras.Model):\n",
        "  def __init__(self,vocab_size,embedding_dim,lstm_units,batch_sz):\n",
        "    super(model,self).__init__()\n",
        "    self.lstm_units = lstm_units\n",
        "    self.batch_sz = batch_sz\n",
        "    self.embedding = tf.keras.layers.Embedding(vocab_size,embedding_dim)\n",
        "    self.lstm_1 = tf.keras.layers.LSTM(self.lstm_units[0],\n",
        "                                      return_sequences=True,\n",
        "                                      return_state=True,\n",
        "                                      recurrent_initializer='glorot_uniform',\n",
        "                                       recurrent_dropout = 0.20)\n",
        "    \n",
        "    self.lstm_2 = tf.keras.layers.LSTM(self.lstm_units[0],\n",
        "                                      return_sequences=True,\n",
        "                                      return_state=True,\n",
        "                                      go_backwards=True,\n",
        "                                       recurrent_dropout=0.20)\n",
        "    self.lstm_3 = tf.keras.layers.LSTM(self.lstm_units[1],\n",
        "                                      return_sequences=True,\n",
        "                                      return_state=True,\n",
        "                                       )\n",
        "  \n",
        "    self.dense_3 = tf.keras.layers.Dense(vocab_size)\n",
        "\n",
        "\n",
        "  def call(self,inp,states_1,states_2,states_3):\n",
        "    x = self.embedding(inp)\n",
        "    #Bidirectional\n",
        "    out_1,states_1[0],states_1[1] = self.lstm_1(x,initial_state=states_1)\n",
        "    out_2,states_2[0],states_2[1] = self.lstm_2(x,initial_state=states_2)\n",
        "    #Concating the result\n",
        "    out_concat = tf.concat([out_1,out_2],axis=2)  \n",
        "    #Simple LSTM\n",
        "    out_3,states_3[0],states_3[1] = self.lstm_3(out_concat,initial_state=states_3)\n",
        "\n",
        "    #Final Layer for making Predictions\n",
        "\n",
        "    output = self.dense_3(out_3)\n",
        "\n",
        "    return output,states_1,states_2,states_3\n",
        "\n",
        "  def initialize_cell_states(self):\n",
        "        states_1 = [tf.zeros([self.batch_sz,self.lstm_units[0]]),tf.zeros([self.batch_sz,self.lstm_units[0]])]\n",
        "        states_2 = [tf.zeros([self.batch_sz,self.lstm_units[0]]),tf.zeros([self.batch_sz,self.lstm_units[0]])]\n",
        "        states_3 = [tf.zeros([self.batch_sz,self.lstm_units[1]]),tf.zeros([self.batch_sz,self.lstm_units[1]])]\n",
        "        return (states_1,states_2,states_3)\n"
      ],
      "execution_count": 0,
      "outputs": []
    },
    {
      "cell_type": "code",
      "metadata": {
        "id": "B5vURS36qOC4",
        "colab_type": "code",
        "outputId": "82b2114a-ac69-4fba-cf70-8ef2e5c5f835",
        "colab": {
          "base_uri": "https://localhost:8080/",
          "height": 75
        }
      },
      "source": [
        "model = model(vocab_size,embedding_size,lstm_units,Batch_Size)\n",
        "\n",
        "states_1,states_2,states_3 = model.initialize_cell_states()"
      ],
      "execution_count": 16,
      "outputs": [
        {
          "output_type": "stream",
          "text": [
            "WARNING:tensorflow:Layer lstm will not use cuDNN kernel since it doesn't meet the cuDNN kernel criteria. It will use generic GPU kernel as fallback when running on GPU\n",
            "WARNING:tensorflow:Layer lstm_1 will not use cuDNN kernel since it doesn't meet the cuDNN kernel criteria. It will use generic GPU kernel as fallback when running on GPU\n"
          ],
          "name": "stdout"
        }
      ]
    },
    {
      "cell_type": "code",
      "metadata": {
        "id": "79ECRy95qu-y",
        "colab_type": "code",
        "outputId": "7a684642-5964-4ca4-ecfb-1b38fe9f8024",
        "colab": {
          "base_uri": "https://localhost:8080/",
          "height": 36
        }
      },
      "source": [
        "for input_example_batch,input_target_batch in dataset.take(1):\n",
        "  example_batch_prediction,states_1,states_2,states_3 = model(\n",
        "                                        input_example_batch,states_1,states_2,states_3)\n",
        "  print(example_batch_prediction.shape)"
      ],
      "execution_count": 17,
      "outputs": [
        {
          "output_type": "stream",
          "text": [
            "(128, 50, 26687)\n"
          ],
          "name": "stdout"
        }
      ]
    },
    {
      "cell_type": "code",
      "metadata": {
        "id": "ho71W2MarR4q",
        "colab_type": "code",
        "outputId": "e1979733-cde8-4dd8-db6d-c52318c7290a",
        "colab": {
          "base_uri": "https://localhost:8080/",
          "height": 359
        }
      },
      "source": [
        "model.summary()"
      ],
      "execution_count": 18,
      "outputs": [
        {
          "output_type": "stream",
          "text": [
            "Model: \"model\"\n",
            "_________________________________________________________________\n",
            "Layer (type)                 Output Shape              Param #   \n",
            "=================================================================\n",
            "embedding (Embedding)        multiple                  10674800  \n",
            "_________________________________________________________________\n",
            "lstm (LSTM)                  multiple                  1869824   \n",
            "_________________________________________________________________\n",
            "lstm_1 (LSTM)                multiple                  1869824   \n",
            "_________________________________________________________________\n",
            "lstm_2 (LSTM)                multiple                  1311744   \n",
            "_________________________________________________________________\n",
            "dense (Dense)                multiple                  6858559   \n",
            "=================================================================\n",
            "Total params: 22,584,751\n",
            "Trainable params: 22,584,751\n",
            "Non-trainable params: 0\n",
            "_________________________________________________________________\n"
          ],
          "name": "stdout"
        }
      ]
    },
    {
      "cell_type": "code",
      "metadata": {
        "id": "2mM10u7esIG0",
        "colab_type": "code",
        "colab": {}
      },
      "source": [
        "model.load_weights(tf.train.latest_checkpoint(\"model\"))\n",
        "optimizer = tf.keras.optimizers.Adam()\n",
        "\n",
        "def train_step(inp,targ,states_1,states_2,states_3):\n",
        "  with tf.GradientTape() as tape:\n",
        "    output,states_1,states_2,states_3 = model(inp,states_1,states_2,states_3)\n",
        "    loss = tf.reduce_mean(\n",
        "        tf.keras.losses.sparse_categorical_crossentropy(targ,output,from_logits=True)\n",
        "    )\n",
        "  grads = tape.gradient(loss,model.trainable_variables)\n",
        "  clipped_grads = [tf.clip_by_value(grad,-1.,1.) for grad in grads if grad is not None]\n",
        "  optimizer.apply_gradients(zip(clipped_grads,model.trainable_variables))\n",
        "\n",
        "  return loss"
      ],
      "execution_count": 0,
      "outputs": []
    },
    {
      "cell_type": "code",
      "metadata": {
        "id": "15o7UbykwGaQ",
        "colab_type": "code",
        "colab": {}
      },
      "source": [
        "checkpoint_prefix = os.path.join(\"model\",\"{epoch}\")"
      ],
      "execution_count": 0,
      "outputs": []
    },
    {
      "cell_type": "code",
      "metadata": {
        "id": "RLrMgwsF-KHC",
        "colab_type": "code",
        "colab": {}
      },
      "source": [
        "EPOCHS = 100\n",
        "steps_per_epoch = len(words_as_int)//Batch_Size\n",
        "for epoch in range(EPOCHS):\n",
        "  start = time.time()\n",
        "  states_1,states_2,states_3 = model.initialize_cell_states()\n",
        "  for (batch_n,(inp,targ)) in enumerate(dataset):\n",
        "    loss = train_step(inp,targ,states_1,states_2,states_3)\n",
        "    if batch_n % 50 == 0:\n",
        "        template = 'Epoch {} Batch {} Loss {}'\n",
        "        print(template.format(epoch+1, batch_n, loss))\n",
        "    \n",
        "  if (epoch + 1) % 5 == 0:\n",
        "      model.save_weights(checkpoint_prefix.format(epoch=epoch))\n",
        "  print ('Epoch {} Loss {:.4f}'.format(epoch+1, loss))\n",
        "  print ('Time taken for 1 epoch {} sec\\n'.format(time.time() - start))\n",
        "\n",
        "model.save_weights(checkpoint_prefix.format(epoch=epoch))"
      ],
      "execution_count": 0,
      "outputs": []
    },
    {
      "cell_type": "code",
      "metadata": {
        "id": "aI2h79Uz_Geg",
        "colab_type": "code",
        "colab": {}
      },
      "source": [
        "model.save_weights(\"custom\")"
      ],
      "execution_count": 0,
      "outputs": []
    },
    {
      "cell_type": "code",
      "metadata": {
        "id": "MeIiURIQBphh",
        "colab_type": "code",
        "colab": {
          "base_uri": "https://localhost:8080/",
          "height": 75
        },
        "outputId": "9c3d01d5-7ef0-4525-e1fa-3df40cd5fb39"
      },
      "source": [
        "model1 = model(vocab_size,embedding_size,lstm_units,1)"
      ],
      "execution_count": 16,
      "outputs": [
        {
          "output_type": "stream",
          "text": [
            "WARNING:tensorflow:Layer lstm will not use cuDNN kernel since it doesn't meet the cuDNN kernel criteria. It will use generic GPU kernel as fallback when running on GPU\n",
            "WARNING:tensorflow:Layer lstm_1 will not use cuDNN kernel since it doesn't meet the cuDNN kernel criteria. It will use generic GPU kernel as fallback when running on GPU\n"
          ],
          "name": "stdout"
        }
      ]
    },
    {
      "cell_type": "code",
      "metadata": {
        "id": "yfsY_l0rOSwQ",
        "colab_type": "code",
        "outputId": "7bedd46e-139c-4de5-c597-9721f81e1a24",
        "colab": {
          "base_uri": "https://localhost:8080/",
          "height": 36
        }
      },
      "source": [
        "model1.load_weights(tf.train.latest_checkpoint(\"model\"))"
      ],
      "execution_count": 17,
      "outputs": [
        {
          "output_type": "execute_result",
          "data": {
            "text/plain": [
              "<tensorflow.python.training.tracking.util.CheckpointLoadStatus at 0x7f23a012d630>"
            ]
          },
          "metadata": {
            "tags": []
          },
          "execution_count": 17
        }
      ]
    },
    {
      "cell_type": "code",
      "metadata": {
        "id": "3AFs91QL_kzA",
        "colab_type": "code",
        "colab": {}
      },
      "source": [
        "def generate_text(model,s_word):\n",
        "  num_generate = 200\n",
        "\n",
        "  input_eval = [word2idx[s] for s in s_word.split(\" \")]\n",
        "\n",
        "  input_eval = tf.expand_dims(input_eval,0)\n",
        "  text_generated = []\n",
        "  temperature = 1.0\n",
        "  states_1,states_2,states_3 = model.initialize_cell_states()\n",
        "  for i in range(num_generate):\n",
        "    prediction,states_1,states_2,states_3 = model(\n",
        "        input_eval,states_1,states_2,states_3)\n",
        "    prediction = prediction/temperature\n",
        "    prediction_id = tf.random.categorical(prediction[0,:,:],num_samples=1)[-1,0].numpy()\n",
        "\n",
        "    input_eval = tf.expand_dims([prediction_id],0)\n",
        "    text_generated.append(idx2word[prediction_id])\n",
        "\n",
        "  text = s_word+ \" \"+\" \".join(text_generated)\n",
        "\n",
        "\n",
        "  #I am genrating the token dict again :\n",
        "  def token_lookup():\n",
        "    mark_to_token={}\n",
        "    mark_to_token['.'] = \"||period||\"\n",
        "    mark_to_token[','] = \"||comma||\"\n",
        "    mark_to_token['\"'] = \"||quotationmark||\"\n",
        "    mark_to_token[';'] = \"||semicolon||\"\n",
        "    mark_to_token['!'] = \"||exclamationmark||\"\n",
        "    mark_to_token['?'] = \"||questionmark||\"\n",
        "    mark_to_token['('] = \"||leftparentheses||\"\n",
        "    mark_to_token[')'] = \"||rightparentheses||\"\n",
        "    mark_to_token['--'] = \"||dash||\"\n",
        "    mark_to_token['\\n'] = \"||return||\"\n",
        "    return mark_to_token\n",
        "\n",
        "  #Conerting the tokens back to their markers\n",
        "  token_dict = token_lookup()\n",
        "  for key,token in token_dict.items():\n",
        "    text = text.replace(token,key)\n",
        "\n",
        "  return text"
      ],
      "execution_count": 0,
      "outputs": []
    },
    {
      "cell_type": "code",
      "metadata": {
        "id": "668xRMf7Myuf",
        "colab_type": "code",
        "colab": {}
      },
      "source": [
        "text = generate_text(model1,u\"jon\")"
      ],
      "execution_count": 0,
      "outputs": []
    },
    {
      "cell_type": "code",
      "metadata": {
        "id": "kyJ5Dz3JBqNq",
        "colab_type": "code",
        "outputId": "00ab8deb-5f76-46d2-f37d-383e430e67d3",
        "colab": {
          "base_uri": "https://localhost:8080/",
          "height": 170
        }
      },
      "source": [
        "print(text) #The model is quite powerful and to obtain good results we have to train the model for a longer time\n",
        "#But for now I have trained it only for 50 epochs."
      ],
      "execution_count": 20,
      "outputs": [
        {
          "output_type": "stream",
          "text": [
            "jon had checked the corpse with the rangers in the look of the children of the handholds and drogo . haggo watched , and their voices shouted in their knees , as she reeled bonelessly to the table . and lay a pox on its wound . when she heard the help , she had missed bran but rise before they might die . there was something so terrifying that he was not doing that it would take some ways at mud , and then she does the weaken ; the young septon did not mean to lift the fist to return to an old one with dice . \n",
            " \n",
            " father had been holding eggs and heart danced in the whispering iron feel out , hummocks began to play off . \n",
            " \n",
            " lord edmure prompted . \n",
            " \n",
            " everyone waved up as he sipped petals from his stable , drawing for blood and gold expanded cask of dragons in reserve and great men in the common room . yet she would be back . dany had sent breath and threw her head again , and many mounted mates in chains . at evenfall , it’s nineteen if it happened\n"
          ],
          "name": "stdout"
        }
      ]
    },
    {
      "cell_type": "code",
      "metadata": {
        "id": "xPw5wQR_OMS5",
        "colab_type": "code",
        "colab": {}
      },
      "source": [
        ""
      ],
      "execution_count": 0,
      "outputs": []
    }
  ]
}